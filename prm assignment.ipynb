{
 "cells": [
  {
   "cell_type": "code",
   "execution_count": 1,
   "id": "d1e0c6d6",
   "metadata": {},
   "outputs": [
    {
     "data": {
      "text/plain": [
       "['great', 'abc', 'hello', 'hiyo']"
      ]
     },
     "execution_count": 1,
     "metadata": {},
     "output_type": "execute_result"
    }
   ],
   "source": [
    "#python candidates\n",
    "list_1 = ['great','hello','hiyo','abc']\n",
    "\n",
    "first_element = list_1.pop(0)\n",
    "\n",
    "list_1 = sorted(list_1)\n",
    "\n",
    "list_1.insert(0,first_element)\n",
    "\n",
    "list_1"
   ]
  },
  {
   "cell_type": "code",
   "execution_count": 2,
   "id": "e7a12dd4",
   "metadata": {},
   "outputs": [
    {
     "name": "stdout",
     "output_type": "stream",
     "text": [
      "enter length of triangle3\n",
      "enter height of triangle4\n",
      "enter base of triangle5\n",
      "Enter the first length of rectangle 2\n",
      "Enter the first width of rectangle 4\n",
      "Enter the second length of rectangle 2\n",
      "Enter the second width of rectangle 4\n",
      "Valid triangle\n",
      "valid rectangle\n"
     ]
    }
   ],
   "source": [
    "\n",
    "def validtriangle(a,b,c):\n",
    "    if(a+b>c) or (a+c>b) or (b+c>a):\n",
    "        return(\"Valid triangle\")\n",
    "    else:\n",
    "        return(\"invalid triangle\")\n",
    "def validrectangle(l1,b1,l2,b2):\n",
    "    if (l1==l2 and b1==b2):\n",
    "        return\"valid rectangle\"\n",
    "    else:\n",
    "        return\"invalid rectangle\"\n",
    "    \n",
    "    \n",
    "a,b,c=int(input(\"enter length of triangle\")),int(input(\"enter height of triangle\")),int(input(\"enter base of triangle\"))\n",
    "l1,b1=int(input(\"Enter the first length of rectangle \")), int(input(\"Enter the first width of rectangle \"))\n",
    "l2,b2=int(input(\"Enter the second length of rectangle \")),int(input(\"Enter the second width of rectangle \"))\n",
    "a=validtriangle(a,b,c)\n",
    "b=validrectangle(l1,b1,l2,b2)\n",
    "print(a)\n",
    "print(b)"
   ]
  },
  {
   "cell_type": "code",
   "execution_count": null,
   "id": "d2a2980b",
   "metadata": {},
   "outputs": [],
   "source": []
  }
 ],
 "metadata": {
  "kernelspec": {
   "display_name": "Python 3 (ipykernel)",
   "language": "python",
   "name": "python3"
  },
  "language_info": {
   "codemirror_mode": {
    "name": "ipython",
    "version": 3
   },
   "file_extension": ".py",
   "mimetype": "text/x-python",
   "name": "python",
   "nbconvert_exporter": "python",
   "pygments_lexer": "ipython3",
   "version": "3.10.6"
  }
 },
 "nbformat": 4,
 "nbformat_minor": 5
}
